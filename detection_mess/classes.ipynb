{
 "cells": [
  {
   "cell_type": "markdown",
   "id": "9bf1b2c2",
   "metadata": {},
   "source": [
    "<div class=\"alert alert-block alert-info\">\n",
    "    \n",
    "The idea is to create classes which are then used freely to customize the experiment and adapt complexity based on the research question.\n",
    "\n",
    "So, we can test participants on several values of ISI, DEVIATION frequencies and magnitudes and TONES, but this is not manipulated on class-level, but on experiment parameter level. To create all stimuli used in a single experiment, we call the classes with all the values that we want to test. I could think of making a class of function for making this too (using **list comprehensions for all possible values for two ranges of values & adding conditions** (rather than removing from all_combos). Also, see **how to define variables in one line with conditionals**!"
   ]
  },
  {
   "cell_type": "markdown",
   "id": "1974e346",
   "metadata": {},
   "source": [
    "### TONE"
   ]
  },
  {
   "cell_type": "markdown",
   "id": "32f38820",
   "metadata": {},
   "source": [
    "Use the tone module from expyriment."
   ]
  },
  {
   "cell_type": "markdown",
   "id": "c7364b1d-4686-47e9-b8fc-5326df86d3ea",
   "metadata": {},
   "source": [
    "#### Jitter"
   ]
  },
  {
   "cell_type": "markdown",
   "id": "ddf3cf64-6eeb-4137-88ae-fd70a00f4522",
   "metadata": {},
   "source": [
    "N (μ = 0, σ = E[|δn |]/ 2π) trun-\n",
    "cated at δn ∈ [−320, 320] ms, with E[|δn |] ∈ {5, 10, 15, 20, 30, 40, 50, 60, 75, 90, 105, 120, 135, 150, 175, 200} ms"
   ]
  },
  {
   "cell_type": "markdown",
   "id": "e8f9f434",
   "metadata": {},
   "source": [
    "### TIMING DEVIATIONS: DEVIL VIOLATIONS"
   ]
  },
  {
   "cell_type": "markdown",
   "id": "51813ffa-6c53-4f31-a712-9774f7fd2940",
   "metadata": {},
   "source": [
    "#### Creating a deviation one by one."
   ]
  },
  {
   "cell_type": "code",
   "execution_count": null,
   "id": "37b8c83e",
   "metadata": {},
   "outputs": [],
   "source": [
    "class Devil():\n",
    "    \n",
    "    def __init__(self, magnitude, direction, location): \n",
    "        self.magnitude = magnitude # How big of a devil is it in msec?\n",
    "        self.direction = direction # Prolonging or Shortening or Haciendo Nada with the ISI: late, early, on-time.\n",
    "        self.location  = location  # To which sequential ISI in the sequence does the devil apply?\n",
    "        # self.frequency = frequency  # How many devils do we have per sequence?\n",
    "        \n",
    "    def __str__(self):\n",
    "        return f\"Timing of tone no. {self.location + 1} is {self.direction} by {self.magnitude} msec.\""
   ]
  },
  {
   "cell_type": "code",
   "execution_count": null,
   "id": "69368e8b",
   "metadata": {},
   "outputs": [],
   "source": [
    "d = Devil(20, \"early\", 2) # 2nd ISI is manipulated, meaning that the 3rd tone is either late or early.\n",
    "print(d.magnitude)\n",
    "print(d.direction)\n",
    "print(d.location)\n",
    "print(d)"
   ]
  },
  {
   "cell_type": "markdown",
   "id": "ced2df3f-fa5c-4786-9148-842d64d587f2",
   "metadata": {},
   "source": [
    "#### Creating a list of deviations."
   ]
  },
  {
   "cell_type": "code",
   "execution_count": null,
   "id": "7368d159-aeb6-483a-bec2-f2176b2053a2",
   "metadata": {},
   "outputs": [],
   "source": [
    "# Sampling the delay by which the onset of one tone is pertrubed in a sequence as written in the ERC: \"Delays will be sampled from a \n",
    "# distribution spanning δ ∈ [−300, 300] ms in increments of 10 ms, plus four extra delays with values δ = ±5 ms, ±15 ms, resulting in\n",
    "# a total of 64 delays.\"\n",
    "\n",
    "class Devil:\n",
    "    def __init__(self, start=-300, end=300, step=10):\n",
    "        self.start = start\n",
    "        self.end   = end\n",
    "        self.step  = step\n",
    "\n",
    "        self.devils = []\n",
    "        self._generate_range()\n",
    "\n",
    "    def _generate_range(self):\n",
    "        for i in range(self.start, self.end, self.step):\n",
    "            self.devils.append(i)\n",
    "        self.devils.sort()\n",
    "        \n",
    "    def add_deviation(self, magnitude):\n",
    "        for m in magnitude:\n",
    "            self.devils.append(m)\n",
    "        self.devils.sort()\n",
    "\n",
    "    def get_random_dev(self, n):\n",
    "        return random.sample(self.devils, n)"
   ]
  },
  {
   "cell_type": "code",
   "execution_count": null,
   "id": "7bc7b4f1-d824-4b3d-a9b7-fb1668815fed",
   "metadata": {},
   "outputs": [],
   "source": [
    "sample = Devil(start=-300, end=300, step=10)\n",
    "\n",
    "# Add custom deviations\n",
    "sample.add_deviation([5, -5, 15, -15])\n",
    "\n",
    "# Print list of all magnitudes\n",
    "print(sample.devils)\n",
    "print(sample.get_random_dev(4))\n"
   ]
  },
  {
   "cell_type": "markdown",
   "id": "6b640fc6",
   "metadata": {},
   "source": [
    "### SEQUENCE = STIMULUS"
   ]
  },
  {
   "cell_type": "code",
   "execution_count": null,
   "id": "e81bcea2",
   "metadata": {},
   "outputs": [],
   "source": [
    "class Sequence():\n",
    "    \n",
    "    def __init__(self, isi, tone, no_tones):\n",
    "        self.isi  = isi\n",
    "        self.tone = tone\n",
    "        self.no_tones = no_tones\n",
    "        \n",
    "    def __str__(self):\n",
    "        return f\"A sequence with {self.isi}-msec-long inter-stimulus-intervals and {self.no_tones} tones in total.\"\n",
    "    \n",
    "    def create_noDev(self):\n",
    "        seq = []\n",
    "        \n",
    "        # Sequence starts with the onset of the first tone and ends with the offset of the last tone.\n",
    "        # Alternates tone / ISI / tone / ISI ...\n",
    "        for _ in range(self.no_tones):\n",
    "            seq.append(self.tone)\n",
    "            \n",
    "            if i < self.no_tones - 1:\n",
    "                seq.append(self.isi)\n",
    "        \n",
    "        return seq\n",
    "    \n",
    "    def create_withDev(self, devil):\n",
    "        seq = []\n",
    "        deviation = devil.get_random_dev(1)\n",
    "        for _ in range(self.no_tones):\n",
    "            seq.append(self.tone)\n",
    "            c += 1\n",
    "            \n",
    "            if c < self.no_tones: # Start with 1st tone's onset and end with the last's tone offset.\n",
    "                \n",
    "                if devil.location == c:\n",
    "                    if devil.direction == \"early\":\n",
    "                        isi_early = self.isi - deviation\n",
    "                        seq.append(isi_early)\n",
    "\n",
    "                    elif devil.direction == \"late\":\n",
    "                        isi_late = self.isi + deviation\n",
    "                        seq.append(isi_late)\n",
    "                else:\n",
    "                    seq.append(self.isi)\n",
    "        \n",
    "        return seq"
   ]
  },
  {
   "cell_type": "code",
   "execution_count": null,
   "id": "7654a707",
   "metadata": {},
   "outputs": [],
   "source": [
    "import random\n",
    "b = Sequence(200, random.sample(range(50), 1), 10)\n",
    "print(b.tone)\n",
    "print(b.isi)\n",
    "print(b.no_tones)\n",
    "print(b)\n",
    "\n",
    "c = b.create_withDev(d)\n",
    "print(\"\\n\",c)"
   ]
  },
  {
   "cell_type": "markdown",
   "id": "a1065384",
   "metadata": {},
   "source": [
    "### TRIAL"
   ]
  },
  {
   "cell_type": "code",
   "execution_count": null,
   "id": "e3e0364d",
   "metadata": {},
   "outputs": [],
   "source": [
    "# IsequenceI: Inter Sequence Interval (time between two sequences, i.e., trials).\n",
    "\n",
    "class Trial(): ############ COPY THE CLASS OF EXPYRIMENT IN THE REAL CODE ----------------------------------- !!\n",
    "    \n",
    "    def __init__(self, seq_number, InterSeqInterval, stimulus):\n",
    "        self.seq_number = seq_number\n",
    "        self.InterSeqInterval = InterSeqInterval\n",
    "        self.stimulus = stimulus\n",
    "        \n",
    "    def __str__(self):\n",
    "        return f\"The trial has {self.seq_number} stimuli, each separated by {self.InterSeqInterval}. Stimulus is: {self.stimulus}\"\n",
    "    \n",
    "    def create(self):\n",
    "        \n",
    "        stimuli_per_trial = []\n",
    "        c = 0\n",
    "        for _ in range(self.seq_number):\n",
    "            stimuli_per_trial.append(self.stimulus)\n",
    "            c += 1\n",
    "            if c < self.seq_number:\n",
    "                stimuli_per_trial.append(self.InterSeqInterval)\n",
    "        \n",
    "        return stimuli_per_trial"
   ]
  },
  {
   "cell_type": "code",
   "execution_count": null,
   "id": "1974f798",
   "metadata": {},
   "outputs": [],
   "source": [
    "t = Trial(3, 3000, c)\n",
    "print(t.seq_number)\n",
    "print(t.InterSeqInterval)\n",
    "print(t)\n",
    "\n",
    "t_all = t.create()\n",
    "print(t_all)"
   ]
  },
  {
   "cell_type": "markdown",
   "id": "14af641e",
   "metadata": {},
   "source": [
    "### BLOCK"
   ]
  },
  {
   "cell_type": "code",
   "execution_count": null,
   "id": "68e0004e",
   "metadata": {},
   "outputs": [],
   "source": [
    "# ITI: Inter Trial Interval (time between two trials).\n",
    "\n",
    "class Block(): ############ COPY THE CLASS OF EXPYRIMENT IN THE REAL CODE ----------------------------------- !!\n",
    "    \n",
    "    def __init__(self, trial_number, iti, trial):\n",
    "        self.trial_number = trial_number\n",
    "        self.iti = iti\n",
    "        self.trial = trial\n",
    "        \n",
    "    def __str__(self):\n",
    "        return f\"The block has {self.trial_number} trials, each separated by {self.iti} msec.\"\n",
    "    \n",
    "    def create(self):\n",
    "        stimuli_per_block = []\n",
    "        c = 0\n",
    "        for _ in range(self.trial_number):\n",
    "            stimuli_per_block.append(self.trial)\n",
    "            c += 1\n",
    "            \n",
    "            if c < self.trial_number:\n",
    "                stimuli_per_block.append(self.iti)\n",
    "        \n",
    "        return stimuli_per_block"
   ]
  },
  {
   "cell_type": "code",
   "execution_count": null,
   "id": "e80f2f7a",
   "metadata": {},
   "outputs": [],
   "source": [
    "bl = Block(3, 3000, c)\n",
    "print(bl.trial_number)\n",
    "print(bl.iti)\n",
    "print(bl)\n",
    "\n",
    "bl_all = bl.create()\n",
    "print(bl_all)"
   ]
  },
  {
   "cell_type": "markdown",
   "id": "daedab9b",
   "metadata": {},
   "source": [
    "### TEST"
   ]
  },
  {
   "cell_type": "code",
   "execution_count": null,
   "id": "5534acdc",
   "metadata": {},
   "outputs": [],
   "source": [
    "seq_200 = Sequence(200, random.sample(range(50), 1), 6) # isi, tone, no_tones\n",
    "seq_250 = Sequence(250, random.sample(range(50), 1), 6) # isi, tone, no_tones\n",
    "\n",
    "deviance_10 = Devil(\"early\", 10, 4) # type, size, loc (isi no.)\n",
    "seq_200 = seq_200.create_withDev(deviance_10)\n",
    "seq_250 = seq_250.create_noDev()\n",
    "\n",
    "trial_20_200 = Trial(20, 400, seq_200) # seq_number, InterSeqInterval, stimulus)\n",
    "trial_20_250 = Trial(20, 500, seq_250) # seq_number, InterSeqInterval, stimulus)\n",
    "trial_20_200 = trial_20_200.create()\n",
    "trial_20_250 = trial_20_250.create()\n",
    "\n",
    "block_200 = Block(2, 2000, trial_20_200) # trial_number, iti, trial\n",
    "block_250 = Block(2, 2000, trial_20_250) # trial_number, iti, trial\n",
    "block_200 = block_200.create()\n",
    "block_250 = block_250.create()\n",
    "\n",
    "print(block_200)\n",
    "print(block_250)"
   ]
  }
 ],
 "metadata": {
  "kernelspec": {
   "display_name": "Python 3 (ipykernel)",
   "language": "python",
   "name": "python3"
  },
  "language_info": {
   "codemirror_mode": {
    "name": "ipython",
    "version": 3
   },
   "file_extension": ".py",
   "mimetype": "text/x-python",
   "name": "python",
   "nbconvert_exporter": "python",
   "pygments_lexer": "ipython3",
   "version": "3.12.7"
  }
 },
 "nbformat": 4,
 "nbformat_minor": 5
}
