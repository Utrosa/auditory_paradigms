{
 "cells": [
  {
   "cell_type": "code",
   "execution_count": 5,
   "id": "5f37397d-2a21-4db3-910c-2fc308c84c7d",
   "metadata": {},
   "outputs": [],
   "source": [
    "import random\n",
    "import numpy as np"
   ]
  },
  {
   "cell_type": "markdown",
   "id": "2a68e596-4007-45ad-9749-af0f3529a29d",
   "metadata": {},
   "source": [
    "#### Non-changing parameters"
   ]
  },
  {
   "cell_type": "code",
   "execution_count": 6,
   "id": "17af92f4-51d6-4187-a8ed-f2b8d11d3701",
   "metadata": {},
   "outputs": [],
   "source": [
    "sample_rate   = 48000\n",
    "tone_duration = 100\n",
    "no_tones      = 7\n",
    "threshold     = 50 # Min detectable absolute deviation in msec as reported in literature: threshold is included as a \"signal\" trial!!\n",
    "ramped_sound  = np.random.uniform(-1, 1, size = 24000) # Approximation of the sound for simplicity"
   ]
  },
  {
   "cell_type": "markdown",
   "id": "57c563a6-d8c6-4d99-95ca-13cf94a13886",
   "metadata": {},
   "source": [
    "#### Changing parameters"
   ]
  },
  {
   "cell_type": "code",
   "execution_count": 14,
   "id": "2c136437-43db-428f-83d4-6cbb23cba4bb",
   "metadata": {},
   "outputs": [],
   "source": [
    "# Inter-stimulus interval in msec\n",
    "isi_list = list(np.arange(500, 800, 100, dtype = np.int64))\n",
    "\n",
    "# Deviations in msec with zero removed\n",
    "deltas = np.setdiff1d(np.arange(-300, 301, 10, dtype = np.int64), [0])\n",
    "\n",
    "# Add custom deviations\n",
    "extra  = np.array([5, 15], dtype = np.int64)\n",
    "deltas = np.concatenate([deltas, extra])\n",
    "\n",
    "# Balance signal vs no-signal trials\n",
    "deltas_abs = np.abs(deltas)\n",
    "belowT = np.sum(deltas_abs < threshold)\n",
    "aboveT = np.sum(deltas_abs > threshold)\n",
    "no_empty = aboveT - belowT\n",
    "if no_empty > 0:\n",
    "    possible_empty = np.setdiff1d(np.arange(-threshold, threshold, dtype = np.int64), deltas)\n",
    "    empty  = np.random.choice(possible_empty, size = no_empty, replace = False)\n",
    "    deltas = np.concatenate([deltas, empty])\n",
    "    \n",
    "deltas = np.sort(deltas)"
   ]
  },
  {
   "cell_type": "code",
   "execution_count": 15,
   "id": "c99d5cc4-6b39-4a7c-81ab-e82a0b5ee6f1",
   "metadata": {},
   "outputs": [
    {
     "data": {
      "text/plain": [
       "306"
      ]
     },
     "execution_count": 15,
     "metadata": {},
     "output_type": "execute_result"
    }
   ],
   "source": [
    "102*3"
   ]
  },
  {
   "cell_type": "markdown",
   "id": "029a79ff-1500-4658-b76d-3abd4e734d5b",
   "metadata": {},
   "source": [
    "#### Check looping"
   ]
  },
  {
   "cell_type": "code",
   "execution_count": null,
   "id": "0a9205ee-140e-4d86-adc7-aaf6fe10a81f",
   "metadata": {},
   "outputs": [],
   "source": [
    "blocks = len(isi_list)\n",
    "trials = len(deltas)\n",
    "\n",
    "exp_ISI, exp_DELTA = [], []\n",
    "random.shuffle(isi_list)\n",
    "for isi in isi_list:\n",
    "    exp_ISI.append(isi)\n",
    "    random.shuffle(deltas)\n",
    "    for d in deltas:\n",
    "        current_delta = d\n",
    "        exp_DELTA.append(current_delta)  "
   ]
  },
  {
   "cell_type": "code",
   "execution_count": null,
   "id": "26307ab9-c807-4eaf-8ed5-c69bcd7de81a",
   "metadata": {},
   "outputs": [],
   "source": [
    "# Check that each values of delta occurs only once per block\n",
    "#for t in range(trials):\n",
    "#    print(exp_DELTA.count(deltas[t]))"
   ]
  },
  {
   "cell_type": "code",
   "execution_count": null,
   "id": "5d048906-95a9-441f-bfc5-afa2c4ef0ccf",
   "metadata": {},
   "outputs": [],
   "source": [
    "isi_samples   = int(current_isi * sample_rate)\n",
    "delta_samples = int(current_delta * sample_rate)\n",
    "tone_samples  = int(tone_duration * sample_rate)\n",
    "total_samples = int(tone_samples * no_tones + (no_tones - 1) * isi_samples)\n",
    " \n",
    "# Pick a random tone to displace\n",
    "displaced_tone = np.random.randint(4, no_tones)"
   ]
  },
  {
   "cell_type": "markdown",
   "id": "593b922c-91ba-48cb-b01d-13c54771be8b",
   "metadata": {},
   "source": [
    "#### Check sequence"
   ]
  },
  {
   "cell_type": "code",
   "execution_count": null,
   "id": "7472fb00-5dab-4051-a89c-1054a0ad4515",
   "metadata": {},
   "outputs": [],
   "source": [
    "# Generate sequence with ISI gaps between each tone\n",
    "sequence = np.array([])\n",
    "\n",
    "for tone_idx in range(no_tones):\n",
    "    \n",
    "    # ----------------- Adding tones ------------------\n",
    "    sequence = np.concatenate((sequence, ramped_sound))\n",
    "\n",
    "    # ----------------- Adding ISI --------------------\n",
    "    # Do not add ISI after the last tone\n",
    "    if tone_idx == no_tones - 1:\n",
    "        continue\n",
    "   \n",
    "    # Change the ISI before the displaced tone\n",
    "    if tone_idx == displaced_tone - 2:\n",
    "\n",
    "        if current_delta > 1: # Positive delta (delay)\n",
    "            isi_before = isi_samples + delta_samples\n",
    "            isi_after  = isi_samples - delta_samples\n",
    "            if isi_after <= 0:\n",
    "                raise ValueError(f\"Displacement is set too big: delta = {delta} sec. Reduce delta or increase ISI.\")\n",
    "            sequence = np.concatenate((sequence, np.zeros(isi_before)))\n",
    "\n",
    "        elif current_delta < 1: # Negative delta (advance)\n",
    "            isi_before = isi_samples - np.abs(delta_samples)\n",
    "            isi_after  = isi_samples + np.abs(delta_samples)\n",
    "            if isi_before <= 0:\n",
    "                raise ValueError(f\"Displacement is set too big: delta = {delta} sec. Reduce delta or increase ISI.\")\n",
    "            sequence = np.concatenate((sequence, np.zeros(isi_before)))\n",
    "        \n",
    "        elif current_delta == 0: # Zero delta (on-time)\n",
    "            sequence = np.concatenate((sequence, np.zeros(isi_samples)))\n",
    "    \n",
    "    # Change the ISI after the displaced tone        \n",
    "    elif tone_idx == displaced_tone - 1:\n",
    "        sequence = np.concatenate((sequence, np.zeros(isi_after)))\n",
    "\n",
    "    # Regular Tone\n",
    "    else:\n",
    "        # Add regular ISI\n",
    "        sequence = np.concatenate((sequence, np.zeros(isi_samples)))\n",
    "\n",
    "# Trim to total duration\n",
    "if len(sequence) > total_samples:\n",
    "    sequence = sequence[:total_samples]"
   ]
  }
 ],
 "metadata": {
  "kernelspec": {
   "display_name": "Python 3 (ipykernel)",
   "language": "python",
   "name": "python3"
  },
  "language_info": {
   "codemirror_mode": {
    "name": "ipython",
    "version": 3
   },
   "file_extension": ".py",
   "mimetype": "text/x-python",
   "name": "python",
   "nbconvert_exporter": "python",
   "pygments_lexer": "ipython3",
   "version": "3.10.0"
  }
 },
 "nbformat": 4,
 "nbformat_minor": 5
}
